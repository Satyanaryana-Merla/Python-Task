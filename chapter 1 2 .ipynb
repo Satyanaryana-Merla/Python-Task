{
 "cells": [
  {
   "cell_type": "markdown",
   "metadata": {},
   "source": [
    "•\tWrite a Python script to convert a given integer to a float and a string."
   ]
  },
  {
   "cell_type": "code",
   "execution_count": 1,
   "metadata": {},
   "outputs": [
    {
     "name": "stdout",
     "output_type": "stream",
     "text": [
      "<class 'int'>\n",
      "<class 'float'>\n",
      "<class 'str'>\n"
     ]
    }
   ],
   "source": [
    "user_input = int(input(\"Enter a integer value\"))\n",
    "int_float = float(user_input)\n",
    "str_str = str(input)\n",
    "print(type(user_input))\n",
    "print(type(int_float))\n",
    "print(type(str_str))\n"
   ]
  },
  {
   "cell_type": "markdown",
   "metadata": {},
   "source": [
    "•\tCreate a boolean variable and use it in a simple if statement to print \"True\" or \"False.\""
   ]
  },
  {
   "cell_type": "code",
   "execution_count": 17,
   "metadata": {},
   "outputs": [
    {
     "name": "stdout",
     "output_type": "stream",
     "text": [
      "True\n"
     ]
    }
   ],
   "source": [
    "on_time = True\n",
    "if on_time:\n",
    "    print(True)\n",
    "else:\n",
    "    print(False)"
   ]
  },
  {
   "cell_type": "markdown",
   "metadata": {},
   "source": [
    "•\tWrite a Python script where you store your name in a variable and then print a greeting message using that variable."
   ]
  },
  {
   "cell_type": "code",
   "execution_count": 22,
   "metadata": {},
   "outputs": [
    {
     "name": "stdout",
     "output_type": "stream",
     "text": [
      "Hello THis is Satyanarayana\n"
     ]
    }
   ],
   "source": [
    "name = \"Satyanarayana\"\n",
    "print(\"Hello THis is\",name)"
   ]
  },
  {
   "cell_type": "markdown",
   "metadata": {},
   "source": [
    "•\tCreate two variables, a and b, assign them values, and then swap the values without using a third variable."
   ]
  },
  {
   "cell_type": "code",
   "execution_count": 30,
   "metadata": {},
   "outputs": [
    {
     "name": "stdout",
     "output_type": "stream",
     "text": [
      "20\n",
      "10\n"
     ]
    }
   ],
   "source": [
    "a = 10\n",
    "b = 20\n",
    "a,b =b,a \n",
    "# print(b)\n",
    "print(a)\n",
    "print(b)"
   ]
  },
  {
   "cell_type": "markdown",
   "metadata": {},
   "source": [
    "•\tWrite a Python script that takes two numbers as input from the user and performs addition, subtraction, multiplication, and division.\n"
   ]
  },
  {
   "cell_type": "code",
   "execution_count": 2,
   "metadata": {},
   "outputs": [
    {
     "name": "stdout",
     "output_type": "stream",
     "text": [
      "30 -10 200 2.0\n"
     ]
    }
   ],
   "source": [
    "num1 = int(input(\"enter a intreger value\"))\n",
    "num2 = int(input(\"enter a intreger value\"))\n",
    "\n",
    "addition = num1 + num2\n",
    "\n",
    "sub = num1-num2\n",
    "\n",
    "multi = num1 * num2\n",
    "\n",
    "div = num2 / num1\n",
    "\n",
    "print(addition, sub, multi, div)\n"
   ]
  },
  {
   "cell_type": "markdown",
   "metadata": {},
   "source": [
    "•\tUse comparison operators to compare two numbers and print which one is greater, or if they are equal."
   ]
  },
  {
   "cell_type": "code",
   "execution_count": 3,
   "metadata": {},
   "outputs": [
    {
     "name": "stdout",
     "output_type": "stream",
     "text": [
      "num1 is Grater\n"
     ]
    }
   ],
   "source": [
    "num1 = int(input(\"enter a intreger value\"))\n",
    "num2 = int(input(\"enter a intreger value\"))\n",
    "\n",
    "if num1 >= num2:\n",
    "    print(\"num1 is Grater\")\n",
    "else:\n",
    "        print(\"num1 is Grater\")"
   ]
  },
  {
   "cell_type": "code",
   "execution_count": 43,
   "metadata": {},
   "outputs": [
    {
     "name": "stdout",
     "output_type": "stream",
     "text": [
      "['RRR', 'KA', 'Amaran', 'Stree', 'Orange']\n",
      "['RRR', 'KA', 'Amaran', 'Stree', 'Orange', 'new']\n",
      "['RRR', 'KA', 'Stree', 'Orange', 'new']\n"
     ]
    }
   ],
   "source": [
    "#•\tCreate a list of your five favorite movies. Then, add one more movie to the list and remove the third one.\n",
    "\n",
    "movies = [\"RRR\", \"KA\", \"Amaran\", \"Stree\", \"Orange\"]\n",
    "print(movies)\n",
    "movies.append(\"new\")\n",
    "print(movies)\n",
    "movies.remove(\"Amaran\")\n",
    "\n",
    "print(movies)"
   ]
  },
  {
   "cell_type": "markdown",
   "metadata": {},
   "source": [
    "•\tCreate a tuple with three elements and try changing the first element. What happens?"
   ]
  },
  {
   "cell_type": "code",
   "execution_count": 4,
   "metadata": {},
   "outputs": [
    {
     "ename": "TypeError",
     "evalue": "'tuple' object does not support item assignment",
     "output_type": "error",
     "traceback": [
      "\u001b[1;31m---------------------------------------------------------------------------\u001b[0m",
      "\u001b[1;31mTypeError\u001b[0m                                 Traceback (most recent call last)",
      "Cell \u001b[1;32mIn[4], line 2\u001b[0m\n\u001b[0;32m      1\u001b[0m tuple_elements \u001b[38;5;241m=\u001b[39m (\u001b[38;5;241m1\u001b[39m, \u001b[38;5;241m2\u001b[39m,\u001b[38;5;241m3\u001b[39m)\n\u001b[1;32m----> 2\u001b[0m \u001b[43mtuple_elements\u001b[49m\u001b[43m[\u001b[49m\u001b[38;5;241;43m1\u001b[39;49m\u001b[43m]\u001b[49m \u001b[38;5;241m=\u001b[39m \u001b[38;5;124m\"\u001b[39m\u001b[38;5;124mkivi\u001b[39m\u001b[38;5;124m\"\u001b[39m\n",
      "\u001b[1;31mTypeError\u001b[0m: 'tuple' object does not support item assignment"
     ]
    }
   ],
   "source": [
    "tuple_elements = (1, 2,3)\n",
    "tuple_elements[1] = \"kivi\""
   ]
  },
  {
   "cell_type": "markdown",
   "metadata": {},
   "source": [
    "•\tCreate a dictionary with three key-value pairs representing the name and age of three people. Write a script to update the age of one person"
   ]
  },
  {
   "cell_type": "code",
   "execution_count": 6,
   "metadata": {},
   "outputs": [
    {
     "name": "stdout",
     "output_type": "stream",
     "text": [
      "{'Satya': 25, 'akhil': 25, 'sai': 26}\n",
      "{'Satya': 24, 'akhil': 25, 'sai': 26}\n"
     ]
    }
   ],
   "source": [
    "name_age = {\n",
    "    \"Satya\": 25,\n",
    "    \"akhil\": 25,\n",
    "    \"sai\": 26\n",
    "}\n",
    "\n",
    "print(name_age)\n",
    "\n",
    "name_age[\"Satya\"] = 24\n",
    "print(name_age)"
   ]
  },
  {
   "cell_type": "markdown",
   "metadata": {},
   "source": [
    "•\tCreate a set of fruits and a set of vegetables. Perform union, intersection, and difference operations on them."
   ]
  },
  {
   "cell_type": "code",
   "execution_count": 9,
   "metadata": {},
   "outputs": [
    {
     "name": "stdout",
     "output_type": "stream",
     "text": [
      "{'bittergod', 'bananna', 'bearoot', 'carrot', 'apple', 'mango'}\n",
      "set()\n",
      "{'apple', 'bananna', 'mango'}\n"
     ]
    }
   ],
   "source": [
    "fruits = {\"apple\", \"bananna\", \"mango\"}\n",
    "vegetables = {\"carrot\", \"bearoot\", \"bittergod\"}\n",
    "union_1 = fruits.union(vegetables)\n",
    "print(union_1)\n",
    "intersection_1 = fruits.intersection(vegetables)\n",
    "print(intersection_1)\n",
    "defferencce = fruits.difference(vegetables)\n",
    "print(defferencce)"
   ]
  },
  {
   "cell_type": "markdown",
   "metadata": {},
   "source": [
    "•\tWrite a Python script to check if a given element is present in a set."
   ]
  },
  {
   "cell_type": "code",
   "execution_count": null,
   "metadata": {},
   "outputs": [
    {
     "name": "stdout",
     "output_type": "stream",
     "text": [
      "Element present in set_lements\n",
      "Element present in set_lements\n",
      "Element present in set_lements\n",
      "Element present in set_lements\n",
      "Elements not prsnt in Set_elements\n"
     ]
    }
   ],
   "source": [
    "set_elements = {1,2,3,4}\n",
    "\n",
    "for i in set_elements:\n",
    "    print(\"Element present in set_lements\")\n",
    "else:\n",
    "    print(\"Elements not prsnt in Set_elements\")"
   ]
  }
 ],
 "metadata": {
  "kernelspec": {
   "display_name": "Python 3",
   "language": "python",
   "name": "python3"
  },
  "language_info": {
   "codemirror_mode": {
    "name": "ipython",
    "version": 3
   },
   "file_extension": ".py",
   "mimetype": "text/x-python",
   "name": "python",
   "nbconvert_exporter": "python",
   "pygments_lexer": "ipython3",
   "version": "3.12.4"
  }
 },
 "nbformat": 4,
 "nbformat_minor": 2
}
