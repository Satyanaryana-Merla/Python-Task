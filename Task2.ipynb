{
 "cells": [
  {
   "cell_type": "markdown",
   "metadata": {},
   "source": [
    "1. Age Classification: Write a program that takes a user's age as input and prints whether they are a child, teenager, adult, or senior based on the following conditions: \n",
    "\n",
    "Child: age < 13 \n",
    "\n",
    "Teenager: 13 <= age < 20 \n",
    "\n",
    "Adult: 20 <= age < 65 \n",
    "\n",
    "Senior: age >= 65 "
   ]
  },
  {
   "cell_type": "code",
   "execution_count": 2,
   "metadata": {},
   "outputs": [
    {
     "name": "stdout",
     "output_type": "stream",
     "text": [
      "Senior\n"
     ]
    }
   ],
   "source": [
    "age = int(input(\"enter the age of a person\"))\n",
    "if age < 13:\n",
    "    print(\"Child\")\n",
    "elif 13 <= age < 20:\n",
    "    print(\"Teenager\")\n",
    "elif 0 <= age < 65:\n",
    "    print(\"Adult\")\n",
    "else:\n",
    "    print(\"Senior\")"
   ]
  },
  {
   "cell_type": "markdown",
   "metadata": {},
   "source": [
    "2. Grade Evaluation: Write a program that takes a student's marks as input and prints their grade based on the following scale: \n",
    "\n",
    "A: marks >= 90 \n",
    "\n",
    "B: 80 <= marks < 90 \n",
    "\n",
    "C: 70 <= marks < 80 \n",
    "\n",
    "D: 60 <= marks < 70 \n",
    "\n",
    "F: marks < 60 "
   ]
  },
  {
   "cell_type": "code",
   "execution_count": 4,
   "metadata": {},
   "outputs": [
    {
     "name": "stdout",
     "output_type": "stream",
     "text": [
      "F\n"
     ]
    }
   ],
   "source": [
    "student_marks = int(input(\"Enter the marks\"))\n",
    "if student_marks >= 90:\n",
    "    print(\"A\")\n",
    "elif 80 <= student_marks < 90 :\n",
    "    print(\"B\")\n",
    "elif 70 <= student_marks < 80 :\n",
    "    print(\"C\")\n",
    "elif 60 <= student_marks < 70 :\n",
    "    print(\"D\")\n",
    "else:\n",
    "    print(\"F\")"
   ]
  },
  {
   "cell_type": "markdown",
   "metadata": {},
   "source": [
    "3. Login System: Write a program that takes a username and password as input and prints \"Access granted\" if they match the pre-defined username and password, otherwise prints \"Access denied\". "
   ]
  },
  {
   "cell_type": "code",
   "execution_count": 7,
   "metadata": {},
   "outputs": [
    {
     "name": "stdout",
     "output_type": "stream",
     "text": [
      "Access Granted\n"
     ]
    }
   ],
   "source": [
    "pre_defined_username = \"admin\"\n",
    "pre_defined_password = 12345\n",
    "\n",
    "def login():\n",
    "    user_name = input(\"nter username\")\n",
    "    password = int(input(\"enter your password\"))\n",
    "\n",
    "    if user_name== pre_defined_username and password == pre_defined_password:\n",
    "        print(\"Access Granted\")\n",
    "    else:\n",
    "        print(\"Access Denied\")\n",
    "\n",
    "login()"
   ]
  },
  {
   "cell_type": "markdown",
   "metadata": {},
   "source": [
    "Leap Year Checker: Write a program that takes a year as input and checks whether it is a leap year. A year is a leap year if it is divisible by 4 but not by 100, except if it is also divisible by 400. "
   ]
  },
  {
   "cell_type": "code",
   "execution_count": 10,
   "metadata": {},
   "outputs": [
    {
     "name": "stdout",
     "output_type": "stream",
     "text": [
      "Invalid input. Please enter a whole number.\n",
      "Invalid input. Please enter a whole number.\n",
      "Invalid input. Please enter a whole number.\n",
      "12 is a leap year.\n"
     ]
    }
   ],
   "source": [
    "def is_leap_year(year):\n",
    "\n",
    "    return year % 4 == 0 and (year % 100!= 0 or year % 400 == 0)\n",
    "\n",
    "def main():\n",
    "    while True:\n",
    "        try:\n",
    "            year = int(input(\"Enter a year: \"))\n",
    "            break\n",
    "        except ValueError:\n",
    "            print(\"Invalid input. Please enter a whole number.\")\n",
    "    \n",
    "    if is_leap_year(year):\n",
    "        print(f\"{year} is a leap year.\")\n",
    "    else:\n",
    "        print(f\"{year} is not a leap year.\")\n",
    "\n",
    "main()"
   ]
  },
  {
   "cell_type": "markdown",
   "metadata": {},
   "source": [
    "Sum of Natural Numbers: Write a program to calculate the sum of the first n natural numbers using both a for loop and a while loop. "
   ]
  },
  {
   "cell_type": "code",
   "execution_count": 12,
   "metadata": {},
   "outputs": [
    {
     "name": "stdout",
     "output_type": "stream",
     "text": [
      "N natural numbers are : 11\n"
     ]
    }
   ],
   "source": [
    "def sum_of_n_natural_number(n):\n",
    "    total = 10\n",
    "    for i in range(1, n + 1):\n",
    "        total += i\n",
    "        return total\n",
    "    \n",
    "n = int(input(\"enter number\"))\n",
    "total_n = sum_of_n_natural_number(n)\n",
    "print(f\"N natural numbers are : {total_n}\")\n"
   ]
  },
  {
   "cell_type": "code",
   "execution_count": 13,
   "metadata": {},
   "outputs": [
    {
     "name": "stdout",
     "output_type": "stream",
     "text": [
      "N natural numbers are : 11\n"
     ]
    }
   ],
   "source": [
    "def while_sum_numbers(n):\n",
    "    total = 0\n",
    "    i = 1\n",
    "    while i <= n:\n",
    "        total += i\n",
    "        i += 1\n",
    "    return total\n",
    "\n",
    "n = int(input(\"enter number\"))\n",
    "total_n = sum_of_n_natural_number(n)\n",
    "print(f\"N natural numbers are : {total_n}\")\n",
    "\n"
   ]
  },
  {
   "cell_type": "markdown",
   "metadata": {},
   "source": [
    "Prime Numbers: Write a program to print all prime numbers between 1 and 100 using a for loop. "
   ]
  },
  {
   "cell_type": "code",
   "execution_count": 15,
   "metadata": {},
   "outputs": [
    {
     "name": "stdout",
     "output_type": "stream",
     "text": [
      "1\t3\t5\t7\t9\t11\t13\t15\t17\t19\t21\t23\t25\t27\t29\t31\t33\t35\t37\t39\t41\t43\t45\t47\t49\t51\t53\t55\t57\t59\t61\t63\t65\t67\t69\t71\t73\t75\t77\t79\t81\t83\t85\t87\t89\t91\t93\t95\t97\t99\t"
     ]
    }
   ],
   "source": [
    "for i in range(1, 100):\n",
    "    if i % 2 != 0:\n",
    "        print(i, end='\\t')\n",
    "    \n"
   ]
  },
  {
   "cell_type": "markdown",
   "metadata": {},
   "source": [
    "Pattern Printing: Write a program to print the following pattern using nested for loops: \n",
    "\n",
    "* \n",
    "\n",
    "** \n",
    "\n",
    "*** \n",
    "\n",
    "**** \n",
    "\n",
    "***** "
   ]
  },
  {
   "cell_type": "code",
   "execution_count": 25,
   "metadata": {},
   "outputs": [
    {
     "name": "stdout",
     "output_type": "stream",
     "text": [
      "* \n",
      "* * \n",
      "* * * \n",
      "* * * * \n",
      "* * * * * \n"
     ]
    }
   ],
   "source": [
    "n =  5\n",
    "for i in range(1, n + 1):\n",
    "            print(\"* \" * i)"
   ]
  },
  {
   "cell_type": "code",
   "execution_count": null,
   "metadata": {},
   "outputs": [
    {
     "name": "stdout",
     "output_type": "stream",
     "text": [
      "* \n",
      "* * \n",
      "* * * \n",
      "* * * * \n",
      "* * * * * \n"
     ]
    }
   ],
   "source": [
    "for i in range(1, n + 1):\n",
    "        for j in range(1, i + 1):\n",
    "            print(\"*\", end=\" \")\n",
    "        print() "
   ]
  },
  {
   "cell_type": "markdown",
   "metadata": {},
   "source": [
    "4. Factorial Calculation: Write a program to calculate the factorial of a given number using a for loop. "
   ]
  },
  {
   "cell_type": "code",
   "execution_count": 31,
   "metadata": {},
   "outputs": [
    {
     "name": "stdout",
     "output_type": "stream",
     "text": [
      "2\n"
     ]
    }
   ],
   "source": [
    "factorial = 1\n",
    "n = int(input(\"Enter a factorial number\"))\n",
    "for i in range(1,n+1):\n",
    "    factorial *= i\n",
    "print(factorial)"
   ]
  },
  {
   "cell_type": "markdown",
   "metadata": {},
   "source": [
    "Number Guessing Game: Write a program where the computer randomly selects a number between 1 and 100. The user has to guess the number, and the program gives hints (\"too high\", \"too low\") until the user guesses the correct number. Use a while loop to implement this. "
   ]
  },
  {
   "cell_type": "code",
   "execution_count": null,
   "metadata": {},
   "outputs": [
    {
     "name": "stdout",
     "output_type": "stream",
     "text": [
      "wELCOME TO THE NUMBER GUSSING GAME\n",
      "Iam Gussing a number in between 1 to 100\n",
      "Invalied input\n",
      "You guss the number less than the current numbr\n",
      "Invalied input\n",
      "You guss the number less than the current numbr\n",
      "Invalied input\n",
      "You guss the number less than the current numbr\n",
      "You are guss numbr is grater than current number\n",
      "You are guss numbr is grater than current number\n",
      "You are guss numbr is grater than current number\n",
      "You are guss numbr is grater than current number\n",
      "You are guss numbr is grater than current number\n",
      "You are guss numbr is grater than current number\n",
      "You are guss numbr is grater than current number\n",
      "You guss the number less than the current numbr\n",
      "You are guss numbr is grater than current number\n",
      "Invalied input\n",
      "You are guss numbr is grater than current number\n"
     ]
    }
   ],
   "source": [
    "import random\n",
    "\n",
    "number_guss = random.randint(1, 5)\n",
    "\n",
    "attempts = 0\n",
    "\n",
    "print(\"wELCOME TO THE NUMBER GUSSING GAME\")\n",
    "print(\"Iam Gussing a number in between 1 to 100\")\n",
    "\n",
    "while True:\n",
    "\n",
    "    user_guss = input(\"Enter a number\")\n",
    "    \n",
    "    try:\n",
    "        user_gusses = int(user_guss)\n",
    "    except ValueError:\n",
    "         print(\"Invalied input\")\n",
    "         \n",
    "    \n",
    "    attempts +=1\n",
    "\n",
    "    if user_gusses == number_guss:\n",
    "        print(f\"Congrats U you guss the number in {attempts}\" )\n",
    "        break\n",
    "\n",
    "    elif user_gusses < number_guss:\n",
    "        print(\"You guss the number less than the current numbr\")\n",
    "        \n",
    "    else:\n",
    "        print(\"You are guss numbr is grater than current number\")"
   ]
  },
  {
   "cell_type": "code",
   "execution_count": null,
   "metadata": {},
   "outputs": [],
   "source": []
  }
 ],
 "metadata": {
  "kernelspec": {
   "display_name": "Python 3",
   "language": "python",
   "name": "python3"
  },
  "language_info": {
   "codemirror_mode": {
    "name": "ipython",
    "version": 3
   },
   "file_extension": ".py",
   "mimetype": "text/x-python",
   "name": "python",
   "nbconvert_exporter": "python",
   "pygments_lexer": "ipython3",
   "version": "3.12.4"
  }
 },
 "nbformat": 4,
 "nbformat_minor": 2
}
